{
 "cells": [
  {
   "cell_type": "code",
   "execution_count": 1,
   "metadata": {},
   "outputs": [],
   "source": [
    "import torch\n",
    "from torch import nn\n",
    "import math\n",
    "import matplotlib.pyplot as plt"
   ]
  },
  {
   "cell_type": "code",
   "execution_count": 2,
   "metadata": {},
   "outputs": [
    {
     "data": {
      "text/plain": [
       "<torch._C.Generator at 0x16b84af2db0>"
      ]
     },
     "execution_count": 2,
     "metadata": {},
     "output_type": "execute_result"
    }
   ],
   "source": [
    "torch.manual_seed(42)"
   ]
  },
  {
   "cell_type": "code",
   "execution_count": 3,
   "metadata": {},
   "outputs": [],
   "source": [
    "train_data_length = 1024\n",
    "train_data = torch.zeros((train_data_length, 2))\n",
    "train_data[:, 0] = 2 * math.pi * torch.rand(train_data_length)\n",
    "train_data[:, 1] = torch.sin(train_data[:, 0])\n",
    "train_labels = torch.zeros(train_data_length)\n",
    "train_set = [(train_data[i], train_labels[i]) for i in range(train_data_length)]"
   ]
  },
  {
   "cell_type": "code",
   "execution_count": 4,
   "metadata": {},
   "outputs": [
    {
     "data": {
      "text/plain": [
       "[<matplotlib.lines.Line2D at 0x16b896e6988>]"
      ]
     },
     "execution_count": 4,
     "metadata": {},
     "output_type": "execute_result"
    },
    {
     "data": {
      "image/png": "[encoded data removed]",
      "text/plain": [
       "<Figure size 432x288 with 1 Axes>"
      ]
     },
     "metadata": {
      "needs_background": "light"
     },
     "output_type": "display_data"
    }
   ],
   "source": [
    "plt.plot(train_data[:, 0], train_data[:, 1], \".\")"
   ]
  },
  {
   "cell_type": "code",
   "execution_count": 5,
   "metadata": {},
   "outputs": [],
   "source": [
    "batch_size = 32\n",
    "train_loader = torch.utils.data.DataLoader(train_set, batch_size=batch_size, shuffle=True)"
   ]
  },
  {
   "cell_type": "code",
   "execution_count": 6,
   "metadata": {},
   "outputs": [],
   "source": [
    "class Discriminator(nn.Module):\n",
    "    def __init__(self):\n",
    "        super().__init__()\n",
    "        self.model = nn.Sequential(\n",
    "                nn.Linear(2, 256),\n",
    "                nn.ReLU(),\n",
    "                nn.Dropout(0.25),\n",
    "                nn.Linear(256, 128),\n",
    "                nn.ReLU(),\n",
    "                nn.Dropout(0.25),\n",
    "                nn.Linear(128, 64),\n",
    "                nn.ReLU(),\n",
    "                nn.Dropout(0.25),\n",
    "                nn.Linear(64, 1),\n",
    "                nn.Sigmoid(),\n",
    "        )\n",
    "    \n",
    "    def forward(self, x):\n",
    "        output = self.model(x)\n",
    "        return output"
   ]
  },
  {
   "cell_type": "code",
   "execution_count": 7,
   "metadata": {},
   "outputs": [],
   "source": [
    "discriminator = Discriminator()"
   ]
  },
  {
   "cell_type": "code",
   "execution_count": 8,
   "metadata": {},
   "outputs": [],
   "source": [
    "class Generator(nn.Module):\n",
    "    def __init__(self):\n",
    "        super().__init__()\n",
    "        self.model = nn.Sequential(\n",
    "                nn.Linear(2, 16),\n",
    "                nn.ReLU(),\n",
    "                nn.Linear(16, 32),\n",
    "                nn.ReLU(),\n",
    "                nn.Linear(32, 2),\n",
    "        )\n",
    "        \n",
    "    def forward(self, x):\n",
    "        output = self.model(x)\n",
    "        return output"
   ]
  },
  {
   "cell_type": "code",
   "execution_count": 9,
   "metadata": {},
   "outputs": [],
   "source": [
    "generator = Generator()"
   ]
  },
  {
   "cell_type": "code",
   "execution_count": 10,
   "metadata": {},
   "outputs": [],
   "source": [
    "lr = 0.001\n",
    "num_epochs = 300\n",
    "loss_func = nn.BCELoss()"
   ]
  },
  {
   "cell_type": "code",
   "execution_count": 11,
   "metadata": {},
   "outputs": [],
   "source": [
    "discriminator_opti = torch.optim.Adam(discriminator.parameters(), lr=lr)\n",
    "generator_opti = torch.optim.Adam(generator.parameters(), lr=lr)"
   ]
  },
  {
   "cell_type": "code",
   "execution_count": 14,
   "metadata": {},
   "outputs": [
    {
     "name": "stdout",
     "output_type": "stream",
     "text": [
      "Epoch: 0 Loss D: 0.1522696167230606\n",
      "Epoch: 0 Loss G: 2.9151010513305664\n",
      "Epoch: 10 Loss D: 0.5170544981956482\n",
      "Epoch: 10 Loss G: 1.1910916566848755\n",
      "Epoch: 20 Loss D: 0.6534489989280701\n",
      "Epoch: 20 Loss G: 0.9805965423583984\n",
      "Epoch: 30 Loss D: 0.545508623123169\n",
      "Epoch: 30 Loss G: 0.9023230075836182\n",
      "Epoch: 40 Loss D: 0.588913083076477\n",
      "Epoch: 40 Loss G: 0.7441899180412292\n",
      "Epoch: 50 Loss D: 0.6245182752609253\n",
      "Epoch: 50 Loss G: 0.9112446308135986\n",
      "Epoch: 60 Loss D: 0.6379849314689636\n",
      "Epoch: 60 Loss G: 0.7382182478904724\n",
      "Epoch: 70 Loss D: 0.6472092866897583\n",
      "Epoch: 70 Loss G: 0.7827926278114319\n",
      "Epoch: 80 Loss D: 0.7046142816543579\n",
      "Epoch: 80 Loss G: 0.8289894461631775\n",
      "Epoch: 90 Loss D: 0.6193328499794006\n",
      "Epoch: 90 Loss G: 0.9578771591186523\n",
      "Epoch: 100 Loss D: 0.6373370885848999\n",
      "Epoch: 100 Loss G: 0.811092734336853\n",
      "Epoch: 110 Loss D: 0.672482430934906\n",
      "Epoch: 110 Loss G: 0.7975646257400513\n",
      "Epoch: 120 Loss D: 0.5628734230995178\n",
      "Epoch: 120 Loss G: 0.8202075958251953\n",
      "Epoch: 130 Loss D: 0.6367555260658264\n",
      "Epoch: 130 Loss G: 0.9857192039489746\n",
      "Epoch: 140 Loss D: 0.5976221561431885\n",
      "Epoch: 140 Loss G: 0.9161512851715088\n",
      "Epoch: 150 Loss D: 0.6501424312591553\n",
      "Epoch: 150 Loss G: 0.9265379905700684\n",
      "Epoch: 160 Loss D: 0.5180419087409973\n",
      "Epoch: 160 Loss G: 0.8969771862030029\n",
      "Epoch: 170 Loss D: 0.5610784888267517\n",
      "Epoch: 170 Loss G: 0.793424665927887\n",
      "Epoch: 180 Loss D: 0.6377952694892883\n",
      "Epoch: 180 Loss G: 0.8406534194946289\n",
      "Epoch: 190 Loss D: 0.5946405529975891\n",
      "Epoch: 190 Loss G: 0.8371303081512451\n",
      "Epoch: 200 Loss D: 0.6109588146209717\n",
      "Epoch: 200 Loss G: 0.9735270142555237\n",
      "Epoch: 210 Loss D: 0.6106265783309937\n",
      "Epoch: 210 Loss G: 0.8582274913787842\n",
      "Epoch: 220 Loss D: 0.6388924717903137\n",
      "Epoch: 220 Loss G: 0.9613873958587646\n",
      "Epoch: 230 Loss D: 0.5990965962409973\n",
      "Epoch: 230 Loss G: 1.114500641822815\n",
      "Epoch: 240 Loss D: 0.5841309428215027\n",
      "Epoch: 240 Loss G: 1.0473874807357788\n",
      "Epoch: 250 Loss D: 0.5681459307670593\n",
      "Epoch: 250 Loss G: 1.0357823371887207\n",
      "Epoch: 260 Loss D: 0.5636998414993286\n",
      "Epoch: 260 Loss G: 1.1137171983718872\n",
      "Epoch: 270 Loss D: 0.5584619045257568\n",
      "Epoch: 270 Loss G: 0.8827791810035706\n",
      "Epoch: 280 Loss D: 0.6039472818374634\n",
      "Epoch: 280 Loss G: 0.892271876335144\n",
      "Epoch: 290 Loss D: 0.5454111695289612\n",
      "Epoch: 290 Loss G: 1.031727910041809\n"
     ]
    }
   ],
   "source": [
    "for epoch in range(num_epochs):\n",
    "    for n, (real_samples, _) in enumerate(train_loader):\n",
    "        # data for training the discriminator\n",
    "        real_samples_labels = torch.ones((batch_size, 1))\n",
    "        latent_space_samples = torch.randn((batch_size, 2))\n",
    "        generated_samples = generator(latent_space_samples)\n",
    "        generated_samples_labels = torch.zeros((batch_size, 1))\n",
    "        all_samples = torch.cat((real_samples, generated_samples))\n",
    "        all_samples_labels = torch.cat((real_samples_labels, generated_samples_labels))\n",
    "        \n",
    "        # training the discriminator\n",
    "        discriminator.zero_grad()\n",
    "        output_discriminator = discriminator(all_samples)\n",
    "        loss_discriminator = loss_func(output_discriminator, all_samples_labels)\n",
    "        loss_discriminator.backward()\n",
    "        discriminator_opti.step()\n",
    "        \n",
    "        # data for training the generator\n",
    "        latent_space_samples = torch.randn((batch_size, 2))\n",
    "        \n",
    "        # training the generator\n",
    "        generator.zero_grad()\n",
    "        generated_samples = generator(latent_space_samples)\n",
    "        output_discriminator_generated = discriminator(generated_samples)\n",
    "        loss_generator = loss_func(output_discriminator_generated, real_samples_labels)\n",
    "        loss_generator.backward()\n",
    "        generator_opti.step()\n",
    "        \n",
    "        # show loss\n",
    "        if epoch % 10 == 0 and n == batch_size - 1:\n",
    "            print(f\"Epoch: {epoch} Loss D: {loss_discriminator}\")\n",
    "            print(f\"Epoch: {epoch} Loss G: {loss_generator}\")"
   ]
  },
  {
   "cell_type": "code",
   "execution_count": 15,
   "metadata": {},
   "outputs": [],
   "source": [
    "latent_space_samples = torch.randn(100, 2)\n",
    "generated_samples = generator(latent_space_samples)"
   ]
  },
  {
   "cell_type": "code",
   "execution_count": 16,
   "metadata": {},
   "outputs": [
    {
     "data": {
      "text/plain": [
       "[<matplotlib.lines.Line2D at 0x16b89826f48>]"
      ]
     },
     "execution_count": 16,
     "metadata": {},
     "output_type": "execute_result"
    },
    {
     "data": {
      "image/png": "[encoded data removed]",
      "text/plain": [
       "<Figure size 432x288 with 1 Axes>"
      ]
     },
     "metadata": {
      "needs_background": "light"
     },
     "output_type": "display_data"
    }
   ],
   "source": [
    "generated_samples = generated_samples.detach()\n",
    "plt.plot(generated_samples[:, 0], generated_samples[:, 1], \".\")"
   ]
  },
  {
   "cell_type": "code",
   "execution_count": 17,
   "metadata": {},
   "outputs": [],
   "source": [
    "import torchvision\n",
    "import torchvision.transforms as transforms"
   ]
  },
  {
   "cell_type": "code",
   "execution_count": 18,
   "metadata": {},
   "outputs": [
    {
     "data": {
      "text/plain": [
       "<torch._C.Generator at 0x16b84af2db0>"
      ]
     },
     "execution_count": 18,
     "metadata": {},
     "output_type": "execute_result"
    }
   ],
   "source": [
    "torch.manual_seed(100)"
   ]
  },
  {
   "cell_type": "code",
   "execution_count": 20,
   "metadata": {},
   "outputs": [
    {
     "data": {
      "text/plain": [
       "device(type='cuda')"
      ]
     },
     "execution_count": 20,
     "metadata": {},
     "output_type": "execute_result"
    }
   ],
   "source": [
    "device = torch.device(\"cuda\") if torch.cuda.is_available() else torch.device(\"cpu\")\n",
    "device"
   ]
  },
  {
   "cell_type": "code",
   "execution_count": 21,
   "metadata": {},
   "outputs": [],
   "source": [
    "transform = transforms.Compose([transforms.ToTensor(), transforms.Normalize((0.5,), (0.5,))])"
   ]
  },
  {
   "cell_type": "code",
   "execution_count": 23,
   "metadata": {},
   "outputs": [
    {
     "name": "stdout",
     "output_type": "stream",
     "text": [
      "Downloading http://yann.lecun.com/exdb/mnist/train-images-idx3-ubyte.gz to .\\MNIST\\raw\\train-images-idx3-ubyte.gz\n"
     ]
    },
    {
     "data": {
      "application/vnd.jupyter.widget-view+json": {
       "model_id": "0b2da59a59584b1a90134d9b47c4fbc6",
       "version_major": 2,
       "version_minor": 0
      },
      "text/plain": [
       "HBox(children=(FloatProgress(value=1.0, bar_style='info', max=1.0), HTML(value='')))"
      ]
     },
     "metadata": {},
     "output_type": "display_data"
    },
    {
     "name": "stdout",
     "output_type": "stream",
     "text": [
      "Extracting .\\MNIST\\raw\\train-images-idx3-ubyte.gz to .\\MNIST\\raw\n",
      "Downloading http://yann.lecun.com/exdb/mnist/train-labels-idx1-ubyte.gz to .\\MNIST\\raw\\train-labels-idx1-ubyte.gz\n"
     ]
    },
    {
     "data": {
      "application/vnd.jupyter.widget-view+json": {
       "model_id": "7b60ec69e75f45af89e095f755e57915",
       "version_major": 2,
       "version_minor": 0
      },
      "text/plain": [
       "HBox(children=(FloatProgress(value=1.0, bar_style='info', max=1.0), HTML(value='')))"
      ]
     },
     "metadata": {},
     "output_type": "display_data"
    },
    {
     "name": "stdout",
     "output_type": "stream",
     "text": [
      "Extracting .\\MNIST\\raw\\train-labels-idx1-ubyte.gz to .\\MNIST\\raw\n",
      "Downloading http://yann.lecun.com/exdb/mnist/t10k-images-idx3-ubyte.gz to .\\MNIST\\raw\\t10k-images-idx3-ubyte.gz\n"
     ]
    },
    {
     "data": {
      "application/vnd.jupyter.widget-view+json": {
       "model_id": "70c02efdddbc4b12b0716db125a16adb",
       "version_major": 2,
       "version_minor": 0
      },
      "text/plain": [
       "HBox(children=(FloatProgress(value=1.0, bar_style='info', max=1.0), HTML(value='')))"
      ]
     },
     "metadata": {},
     "output_type": "display_data"
    },
    {
     "name": "stdout",
     "output_type": "stream",
     "text": [
      "Extracting .\\MNIST\\raw\\t10k-images-idx3-ubyte.gz to .\\MNIST\\raw\n",
      "Downloading http://yann.lecun.com/exdb/mnist/t10k-labels-idx1-ubyte.gz to .\\MNIST\\raw\\t10k-labels-idx1-ubyte.gz\n"
     ]
    },
    {
     "data": {
      "application/vnd.jupyter.widget-view+json": {
       "model_id": "160bf363758c4beb8a435b06fe514904",
       "version_major": 2,
       "version_minor": 0
      },
      "text/plain": [
       "HBox(children=(FloatProgress(value=1.0, bar_style='info', max=1.0), HTML(value='')))"
      ]
     },
     "metadata": {},
     "output_type": "display_data"
    },
    {
     "name": "stdout",
     "output_type": "stream",
     "text": [
      "Extracting .\\MNIST\\raw\\t10k-labels-idx1-ubyte.gz to .\\MNIST\\raw\n",
      "Processing...\n",
      "Done!\n"
     ]
    },
    {
     "name": "stderr",
     "output_type": "stream",
     "text": [
      "..\\torch\\csrc\\utils\\tensor_numpy.cpp:141: UserWarning: The given NumPy array is not writeable, and PyTorch does not support non-writeable tensors. This means you can write to the underlying (supposedly non-writeable) NumPy array using the tensor. You may want to copy the array to protect its data or make it writeable before converting it to a tensor. This type of warning will be suppressed for the rest of this program.\n"
     ]
    }
   ],
   "source": [
    "train_set = torchvision.datasets.MNIST(root=\".\", train=True, download=True, transform=transform)"
   ]
  },
  {
   "cell_type": "code",
   "execution_count": 24,
   "metadata": {},
   "outputs": [],
   "source": [
    "batch_size = 32\n",
    "train_loader = torch.utils.data.DataLoader(train_set, batch_size=batch_size, shuffle=True)"
   ]
  },
  {
   "cell_type": "code",
   "execution_count": 25,
   "metadata": {},
   "outputs": [
    {
     "data": {
      "image/png": "[encoded data removed]",
      "text/plain": [
       "<Figure size 432x288 with 16 Axes>"
      ]
     },
     "metadata": {},
     "output_type": "display_data"
    }
   ],
   "source": [
    "real_samples, mnist_labels = next(iter(train_loader))\n",
    "for i in range(16):\n",
    "    ax = plt.subplot(4, 4, i + 1)\n",
    "    plt.imshow(real_samples[i].reshape(28, 28), cmap=\"gray_r\")\n",
    "    plt.xticks([])\n",
    "    plt.yticks([])"
   ]
  },
  {
   "cell_type": "code",
   "execution_count": 26,
   "metadata": {},
   "outputs": [],
   "source": [
    "class Discriminator(nn.Module):\n",
    "    def __init__(self):\n",
    "        super().__init__()\n",
    "        self.model = nn.Sequential(\n",
    "                nn.Linear(784, 1024),\n",
    "                nn.ReLU(),\n",
    "                nn.Dropout(0.25),\n",
    "                nn.Linear(1024, 512),\n",
    "                nn.ReLU(),\n",
    "                nn.Dropout(0.25),\n",
    "                nn.Linear(512, 256),\n",
    "                nn.ReLU(),\n",
    "                nn.Dropout(0.25),\n",
    "                nn.Linear(256, 1),\n",
    "                nn.Sigmoid(),\n",
    "        )\n",
    "    \n",
    "    def forward(self, x):\n",
    "        x = x.view(x.size(0), 784)\n",
    "        output = self.model(x)\n",
    "        return output"
   ]
  },
  {
   "cell_type": "code",
   "execution_count": 27,
   "metadata": {},
   "outputs": [],
   "source": [
    "discriminator = Discriminator().to(device=device)"
   ]
  },
  {
   "cell_type": "code",
   "execution_count": 30,
   "metadata": {},
   "outputs": [],
   "source": [
    "class Generator(nn.Module):\n",
    "    def __init__(self):\n",
    "        super().__init__()\n",
    "        self.model = nn.Sequential(\n",
    "                nn.Linear(100, 256),\n",
    "                nn.ReLU(),\n",
    "                nn.Linear(256, 512),\n",
    "                nn.ReLU(),\n",
    "                nn.Linear(512, 1024),\n",
    "                nn.ReLU(),\n",
    "                nn.Linear(1024, 784),\n",
    "                nn.Tanh(),\n",
    "        )\n",
    "        \n",
    "    def forward(self, x):\n",
    "        output = self.model(x)\n",
    "        output = output.view(x.size(0), 1, 28, 28)\n",
    "        return output"
   ]
  },
  {
   "cell_type": "code",
   "execution_count": 31,
   "metadata": {},
   "outputs": [],
   "source": [
    "generator = Generator().to(device=device)"
   ]
  },
  {
   "cell_type": "code",
   "execution_count": 32,
   "metadata": {},
   "outputs": [],
   "source": [
    "lr = 0.0001\n",
    "num_epochs = 50\n",
    "loss_func = nn.BCELoss()\n",
    "\n",
    "disc_opti = torch.optim.Adam(discriminator.parameters(), lr=lr)\n",
    "gene_opti = torch.optim.Adam(generator.parameters(), lr=lr)"
   ]
  },
  {
   "cell_type": "code",
   "execution_count": 33,
   "metadata": {},
   "outputs": [
    {
     "name": "stdout",
     "output_type": "stream",
     "text": [
      "Epoch: 0 Loss D: 0.5075950622558594\n",
      "Epoch: 0 Loss G: 0.5759748816490173\n",
      "Epoch: 1 Loss D: 0.05483996868133545\n",
      "Epoch: 1 Loss G: 5.543529987335205\n",
      "Epoch: 2 Loss D: 0.0108174504712224\n",
      "Epoch: 2 Loss G: 5.759162425994873\n",
      "Epoch: 3 Loss D: 0.004986046813428402\n",
      "Epoch: 3 Loss G: 5.802756309509277\n",
      "Epoch: 4 Loss D: 0.06239645928144455\n",
      "Epoch: 4 Loss G: 5.307766914367676\n",
      "Epoch: 5 Loss D: 0.18749374151229858\n",
      "Epoch: 5 Loss G: 5.114771366119385\n",
      "Epoch: 6 Loss D: 0.10823293030261993\n",
      "Epoch: 6 Loss G: 3.6073355674743652\n",
      "Epoch: 7 Loss D: 0.10139885544776917\n",
      "Epoch: 7 Loss G: 4.083014488220215\n",
      "Epoch: 8 Loss D: 0.13247010111808777\n",
      "Epoch: 8 Loss G: 3.3567986488342285\n",
      "Epoch: 9 Loss D: 0.27223560214042664\n",
      "Epoch: 9 Loss G: 2.0825862884521484\n",
      "Epoch: 10 Loss D: 0.3813592195510864\n",
      "Epoch: 10 Loss G: 1.7906490564346313\n",
      "Epoch: 11 Loss D: 0.2865586280822754\n",
      "Epoch: 11 Loss G: 1.4934929609298706\n",
      "Epoch: 12 Loss D: 0.3922411799430847\n",
      "Epoch: 12 Loss G: 1.912843108177185\n",
      "Epoch: 13 Loss D: 0.3221310079097748\n",
      "Epoch: 13 Loss G: 1.9492796659469604\n",
      "Epoch: 14 Loss D: 0.37752068042755127\n",
      "Epoch: 14 Loss G: 1.2763493061065674\n",
      "Epoch: 15 Loss D: 0.3468109369277954\n",
      "Epoch: 15 Loss G: 1.8062806129455566\n",
      "Epoch: 16 Loss D: 0.4342767596244812\n",
      "Epoch: 16 Loss G: 1.2996819019317627\n",
      "Epoch: 17 Loss D: 0.40720272064208984\n",
      "Epoch: 17 Loss G: 1.514646053314209\n",
      "Epoch: 18 Loss D: 0.5397607684135437\n",
      "Epoch: 18 Loss G: 1.3812477588653564\n",
      "Epoch: 19 Loss D: 0.39549165964126587\n",
      "Epoch: 19 Loss G: 1.5480246543884277\n",
      "Epoch: 20 Loss D: 0.5151575803756714\n",
      "Epoch: 20 Loss G: 1.7203104496002197\n",
      "Epoch: 21 Loss D: 0.4665505290031433\n",
      "Epoch: 21 Loss G: 1.394909143447876\n",
      "Epoch: 22 Loss D: 0.506763219833374\n",
      "Epoch: 22 Loss G: 1.4369076490402222\n",
      "Epoch: 23 Loss D: 0.45718109607696533\n",
      "Epoch: 23 Loss G: 1.2539820671081543\n",
      "Epoch: 24 Loss D: 0.5915321111679077\n",
      "Epoch: 24 Loss G: 1.309160590171814\n",
      "Epoch: 25 Loss D: 0.5140047073364258\n",
      "Epoch: 25 Loss G: 1.0458900928497314\n",
      "Epoch: 26 Loss D: 0.5015181303024292\n",
      "Epoch: 26 Loss G: 1.1403058767318726\n",
      "Epoch: 27 Loss D: 0.5376099944114685\n",
      "Epoch: 27 Loss G: 1.2304611206054688\n",
      "Epoch: 28 Loss D: 0.6196029782295227\n",
      "Epoch: 28 Loss G: 1.1127939224243164\n",
      "Epoch: 29 Loss D: 0.5042152404785156\n",
      "Epoch: 29 Loss G: 1.3221668004989624\n",
      "Epoch: 30 Loss D: 0.5021740198135376\n",
      "Epoch: 30 Loss G: 0.805910050868988\n",
      "Epoch: 31 Loss D: 0.5221620202064514\n",
      "Epoch: 31 Loss G: 1.3729966878890991\n",
      "Epoch: 32 Loss D: 0.5200245380401611\n",
      "Epoch: 32 Loss G: 1.3057690858840942\n",
      "Epoch: 33 Loss D: 0.4951044023036957\n",
      "Epoch: 33 Loss G: 1.268218755722046\n",
      "Epoch: 34 Loss D: 0.47766685485839844\n",
      "Epoch: 34 Loss G: 1.1841719150543213\n",
      "Epoch: 35 Loss D: 0.626594066619873\n",
      "Epoch: 35 Loss G: 1.0883991718292236\n",
      "Epoch: 36 Loss D: 0.5204516649246216\n",
      "Epoch: 36 Loss G: 1.382683515548706\n",
      "Epoch: 37 Loss D: 0.5107289552688599\n",
      "Epoch: 37 Loss G: 1.1818256378173828\n",
      "Epoch: 38 Loss D: 0.5042011737823486\n",
      "Epoch: 38 Loss G: 1.0195363759994507\n",
      "Epoch: 39 Loss D: 0.5570443272590637\n",
      "Epoch: 39 Loss G: 1.0462483167648315\n",
      "Epoch: 40 Loss D: 0.595703125\n",
      "Epoch: 40 Loss G: 0.9560402631759644\n",
      "Epoch: 41 Loss D: 0.5987451672554016\n",
      "Epoch: 41 Loss G: 1.192388892173767\n",
      "Epoch: 42 Loss D: 0.5771100521087646\n",
      "Epoch: 42 Loss G: 1.0814809799194336\n",
      "Epoch: 43 Loss D: 0.5193843841552734\n",
      "Epoch: 43 Loss G: 1.0847043991088867\n",
      "Epoch: 44 Loss D: 0.5223182439804077\n",
      "Epoch: 44 Loss G: 1.1633285284042358\n",
      "Epoch: 45 Loss D: 0.479157030582428\n",
      "Epoch: 45 Loss G: 1.356210708618164\n",
      "Epoch: 46 Loss D: 0.5396417379379272\n",
      "Epoch: 46 Loss G: 1.1312768459320068\n",
      "Epoch: 47 Loss D: 0.4062601923942566\n",
      "Epoch: 47 Loss G: 1.353895902633667\n",
      "Epoch: 48 Loss D: 0.5734800100326538\n",
      "Epoch: 48 Loss G: 1.1961431503295898\n",
      "Epoch: 49 Loss D: 0.45007315278053284\n",
      "Epoch: 49 Loss G: 1.155866265296936\n"
     ]
    }
   ],
   "source": [
    "for epoch in range(num_epochs):\n",
    "    for n, (real_samples, mnist_labels) in enumerate(train_loader):\n",
    "        # data for discriminator\n",
    "        real_samples = real_samples.to(device=device)\n",
    "        real_samples_labels = torch.ones((batch_size, 1)).to(device=device)\n",
    "        latent_space_samples = torch.randn((batch_size, 100)).to(device=device)\n",
    "        generated_samples = generator(latent_space_samples)\n",
    "        generated_samples_labels = torch.zeros((batch_size, 1)).to(device=device)\n",
    "        all_samples = torch.cat((real_samples, generated_samples))\n",
    "        all_samples_labels = torch.cat((real_samples_labels, generated_samples_labels))\n",
    "        \n",
    "        # training the discriminator\n",
    "        discriminator.zero_grad()\n",
    "        output_discriminator = discriminator(all_samples)\n",
    "        loss_discriminator = loss_func(output_discriminator, all_samples_labels)\n",
    "        loss_discriminator.backward()\n",
    "        disc_opti.step()\n",
    "        \n",
    "        # data for generator\n",
    "        latent_space_samples = torch.randn((batch_size, 100)).to(device=device)\n",
    "        \n",
    "        # training the generator\n",
    "        generator.zero_grad()\n",
    "        generated_samples = generator(latent_space_samples)\n",
    "        output_discriminator_generated = discriminator(generated_samples)\n",
    "        loss_generator = loss_func(output_discriminator_generated, real_samples_labels)\n",
    "        loss_generator.backward()\n",
    "        gene_opti.step()\n",
    "        \n",
    "        # show loss\n",
    "        if n == batch_size - 1:\n",
    "            print(f\"Epoch: {epoch} Loss D: {loss_discriminator}\")\n",
    "            print(f\"Epoch: {epoch} Loss G: {loss_generator}\")"
   ]
  },
  {
   "cell_type": "code",
   "execution_count": 34,
   "metadata": {},
   "outputs": [
    {
     "data": {
      "image/png": "[encoded data removed]",
      "text/plain": [
       "<Figure size 432x288 with 16 Axes>"
      ]
     },
     "metadata": {},
     "output_type": "display_data"
    }
   ],
   "source": [
    "latent_space_samples = torch.randn(batch_size, 100).to(device=device)\n",
    "generated_samples = generator(latent_space_samples)\n",
    "generated_samples = generated_samples.cpu().detach()\n",
    "for i in range(16):\n",
    "    ax = plt.subplot(4, 4, i + 1)\n",
    "    plt.imshow(generated_samples[i].reshape(28, 28), cmap=\"gray_r\")\n",
    "    plt.xticks([])\n",
    "    plt.yticks([])"
   ]
  }
 ],
 "metadata": {
  "kernelspec": {
   "display_name": "Python 3",
   "language": "python",
   "name": "python3"
  },
  "language_info": {
   "codemirror_mode": {
    "name": "ipython",
    "version": 3
   },
   "file_extension": ".py",
   "mimetype": "text/x-python",
   "name": "python",
   "nbconvert_exporter": "python",
   "pygments_lexer": "ipython3",
   "version": "3.7.6"
  }
 },
 "nbformat": 4,
 "nbformat_minor": 4
}
